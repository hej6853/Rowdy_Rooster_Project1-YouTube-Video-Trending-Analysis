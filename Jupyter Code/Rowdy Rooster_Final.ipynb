{
 "cells": [
  {
   "cell_type": "code",
   "execution_count": 2,
   "metadata": {
    "scrolled": true
   },
   "outputs": [],
   "source": [
    "# Dependencies and Setup\n",
    "import matplotlib.pyplot as plt\n",
    "import pandas as pd\n",
    "import numpy as np\n",
    "import pprint\n",
    "import itertools\n",
    "import nltk\n",
    "import chardet\n",
    "import string\n",
    "import matplotlib.pyplot as plt\n",
    "from PIL import Image\n",
    "from collections import Counter\n",
    "from nltk.corpus import stopwords \n",
    "from nltk.tokenize import sent_tokenize, word_tokenize\n",
    "from nltk.stem import PorterStemmer\n",
    "from nltk.stem import WordNetLemmatizer\n",
    "from nltk.tokenize import RegexpTokenizer\n",
    "from wordcloud import WordCloud, STOPWORDS"
   ]
  },
  {
   "cell_type": "code",
   "execution_count": 3,
   "metadata": {},
   "outputs": [],
   "source": [
    "# import file\n",
    "US = pd.read_csv('Dataset/US_youtube_trending_data.csv') \n",
    "GB = pd.read_csv('Dataset/GB_youtube_trending_data.csv')\n",
    "CA = pd.read_csv('Dataset/CA_youtube_trending_data.csv')\n",
    "\n",
    "US['country'] = 'US'\n",
    "GB['country'] = 'GB'\n",
    "CA['country'] = 'CA'\n",
    "frames = [US, GB, CA]\n",
    "\n",
    "#merge\n",
    "df = pd.concat(frames).drop_duplicates()"
   ]
  },
  {
   "cell_type": "code",
   "execution_count": 4,
   "metadata": {},
   "outputs": [
    {
     "data": {
      "text/html": [
       "<div>\n",
       "<style scoped>\n",
       "    .dataframe tbody tr th:only-of-type {\n",
       "        vertical-align: middle;\n",
       "    }\n",
       "\n",
       "    .dataframe tbody tr th {\n",
       "        vertical-align: top;\n",
       "    }\n",
       "\n",
       "    .dataframe thead th {\n",
       "        text-align: right;\n",
       "    }\n",
       "</style>\n",
       "<table border=\"1\" class=\"dataframe\">\n",
       "  <thead>\n",
       "    <tr style=\"text-align: right;\">\n",
       "      <th></th>\n",
       "      <th>video_id</th>\n",
       "      <th>title</th>\n",
       "      <th>publishedAt</th>\n",
       "      <th>channelTitle</th>\n",
       "      <th>categoryId</th>\n",
       "      <th>trending_date</th>\n",
       "      <th>tags</th>\n",
       "      <th>view_count</th>\n",
       "      <th>likes</th>\n",
       "      <th>dislikes</th>\n",
       "      <th>comment_count</th>\n",
       "      <th>description</th>\n",
       "      <th>country</th>\n",
       "    </tr>\n",
       "  </thead>\n",
       "  <tbody>\n",
       "    <tr>\n",
       "      <th>0</th>\n",
       "      <td>3C66w5Z0ixs</td>\n",
       "      <td>I ASKED HER TO BE MY GIRLFRIEND...</td>\n",
       "      <td>2020-08-11T19:20:14Z</td>\n",
       "      <td>Brawadis</td>\n",
       "      <td>22</td>\n",
       "      <td>2020-08-12T00:00:00Z</td>\n",
       "      <td>brawadis|prank|basketball|skits|ghost|funny vi...</td>\n",
       "      <td>1514614</td>\n",
       "      <td>156908</td>\n",
       "      <td>5855</td>\n",
       "      <td>35313</td>\n",
       "      <td>SUBSCRIBE to BRAWADIS ▶ http://bit.ly/Subscrib...</td>\n",
       "      <td>US</td>\n",
       "    </tr>\n",
       "    <tr>\n",
       "      <th>1</th>\n",
       "      <td>M9Pmf9AB4Mo</td>\n",
       "      <td>Apex Legends | Stories from the Outlands – “Th...</td>\n",
       "      <td>2020-08-11T17:00:10Z</td>\n",
       "      <td>Apex Legends</td>\n",
       "      <td>20</td>\n",
       "      <td>2020-08-12T00:00:00Z</td>\n",
       "      <td>Apex Legends|Apex Legends characters|new Apex ...</td>\n",
       "      <td>2381688</td>\n",
       "      <td>146739</td>\n",
       "      <td>2794</td>\n",
       "      <td>16549</td>\n",
       "      <td>While running her own modding shop, Ramya Pare...</td>\n",
       "      <td>US</td>\n",
       "    </tr>\n",
       "    <tr>\n",
       "      <th>2</th>\n",
       "      <td>J78aPJ3VyNs</td>\n",
       "      <td>I left youtube for a month and THIS is what ha...</td>\n",
       "      <td>2020-08-11T16:34:06Z</td>\n",
       "      <td>jacksepticeye</td>\n",
       "      <td>24</td>\n",
       "      <td>2020-08-12T00:00:00Z</td>\n",
       "      <td>jacksepticeye|funny|funny meme|memes|jacksepti...</td>\n",
       "      <td>2038853</td>\n",
       "      <td>353787</td>\n",
       "      <td>2628</td>\n",
       "      <td>40221</td>\n",
       "      <td>I left youtube for a month and this is what ha...</td>\n",
       "      <td>US</td>\n",
       "    </tr>\n",
       "    <tr>\n",
       "      <th>3</th>\n",
       "      <td>kXLn3HkpjaA</td>\n",
       "      <td>XXL 2020 Freshman Class Revealed - Official An...</td>\n",
       "      <td>2020-08-11T16:38:55Z</td>\n",
       "      <td>XXL</td>\n",
       "      <td>10</td>\n",
       "      <td>2020-08-12T00:00:00Z</td>\n",
       "      <td>xxl freshman|xxl freshmen|2020 xxl freshman|20...</td>\n",
       "      <td>496771</td>\n",
       "      <td>23251</td>\n",
       "      <td>1856</td>\n",
       "      <td>7647</td>\n",
       "      <td>Subscribe to XXL → http://bit.ly/subscribe-xxl...</td>\n",
       "      <td>US</td>\n",
       "    </tr>\n",
       "    <tr>\n",
       "      <th>4</th>\n",
       "      <td>VIUo6yapDbc</td>\n",
       "      <td>Ultimate DIY Home Movie Theater for The LaBran...</td>\n",
       "      <td>2020-08-11T15:10:05Z</td>\n",
       "      <td>Mr. Kate</td>\n",
       "      <td>26</td>\n",
       "      <td>2020-08-12T00:00:00Z</td>\n",
       "      <td>The LaBrant Family|DIY|Interior Design|Makeove...</td>\n",
       "      <td>1123889</td>\n",
       "      <td>45802</td>\n",
       "      <td>964</td>\n",
       "      <td>2196</td>\n",
       "      <td>Transforming The LaBrant Family's empty white ...</td>\n",
       "      <td>US</td>\n",
       "    </tr>\n",
       "  </tbody>\n",
       "</table>\n",
       "</div>"
      ],
      "text/plain": [
       "      video_id                                              title  \\\n",
       "0  3C66w5Z0ixs                 I ASKED HER TO BE MY GIRLFRIEND...   \n",
       "1  M9Pmf9AB4Mo  Apex Legends | Stories from the Outlands – “Th...   \n",
       "2  J78aPJ3VyNs  I left youtube for a month and THIS is what ha...   \n",
       "3  kXLn3HkpjaA  XXL 2020 Freshman Class Revealed - Official An...   \n",
       "4  VIUo6yapDbc  Ultimate DIY Home Movie Theater for The LaBran...   \n",
       "\n",
       "            publishedAt   channelTitle  categoryId         trending_date  \\\n",
       "0  2020-08-11T19:20:14Z       Brawadis          22  2020-08-12T00:00:00Z   \n",
       "1  2020-08-11T17:00:10Z   Apex Legends          20  2020-08-12T00:00:00Z   \n",
       "2  2020-08-11T16:34:06Z  jacksepticeye          24  2020-08-12T00:00:00Z   \n",
       "3  2020-08-11T16:38:55Z            XXL          10  2020-08-12T00:00:00Z   \n",
       "4  2020-08-11T15:10:05Z       Mr. Kate          26  2020-08-12T00:00:00Z   \n",
       "\n",
       "                                                tags  view_count   likes  \\\n",
       "0  brawadis|prank|basketball|skits|ghost|funny vi...     1514614  156908   \n",
       "1  Apex Legends|Apex Legends characters|new Apex ...     2381688  146739   \n",
       "2  jacksepticeye|funny|funny meme|memes|jacksepti...     2038853  353787   \n",
       "3  xxl freshman|xxl freshmen|2020 xxl freshman|20...      496771   23251   \n",
       "4  The LaBrant Family|DIY|Interior Design|Makeove...     1123889   45802   \n",
       "\n",
       "   dislikes  comment_count                                        description  \\\n",
       "0      5855          35313  SUBSCRIBE to BRAWADIS ▶ http://bit.ly/Subscrib...   \n",
       "1      2794          16549  While running her own modding shop, Ramya Pare...   \n",
       "2      2628          40221  I left youtube for a month and this is what ha...   \n",
       "3      1856           7647  Subscribe to XXL → http://bit.ly/subscribe-xxl...   \n",
       "4       964           2196  Transforming The LaBrant Family's empty white ...   \n",
       "\n",
       "  country  \n",
       "0      US  \n",
       "1      US  \n",
       "2      US  \n",
       "3      US  \n",
       "4      US  "
      ]
     },
     "execution_count": 4,
     "metadata": {},
     "output_type": "execute_result"
    }
   ],
   "source": [
    "# Drop unnecessary rows \n",
    "df.drop(['channelId', 'thumbnail_link', 'comments_disabled', 'ratings_disabled'], inplace=True, axis=1)\n",
    "\n",
    "df.head()"
   ]
  },
  {
   "cell_type": "markdown",
   "metadata": {},
   "source": [
    "## Simple Data Cleaning"
   ]
  },
  {
   "cell_type": "code",
   "execution_count": 5,
   "metadata": {},
   "outputs": [],
   "source": [
    "# Lowercase title and tags columns \n",
    "df['title'] = df['title'].str.lower()\n",
    "df['tags'] = df['tags'].str.lower()\n",
    "df['description'] = df['description'].str.lower()"
   ]
  },
  {
   "cell_type": "code",
   "execution_count": 6,
   "metadata": {},
   "outputs": [],
   "source": [
    "# Splitting tag and title contents for easier parsing\n",
    "df['title content'] = df['title'].str.split()\n",
    "df['tag content'] = df['tags'].str.split(\"|\")\n",
    "df['description content'] = df['description'].str.split()"
   ]
  },
  {
   "cell_type": "code",
   "execution_count": 7,
   "metadata": {},
   "outputs": [
    {
     "data": {
      "text/html": [
       "<div>\n",
       "<style scoped>\n",
       "    .dataframe tbody tr th:only-of-type {\n",
       "        vertical-align: middle;\n",
       "    }\n",
       "\n",
       "    .dataframe tbody tr th {\n",
       "        vertical-align: top;\n",
       "    }\n",
       "\n",
       "    .dataframe thead th {\n",
       "        text-align: right;\n",
       "    }\n",
       "</style>\n",
       "<table border=\"1\" class=\"dataframe\">\n",
       "  <thead>\n",
       "    <tr style=\"text-align: right;\">\n",
       "      <th></th>\n",
       "      <th>video_id</th>\n",
       "      <th>title</th>\n",
       "      <th>publishedAt</th>\n",
       "      <th>channelTitle</th>\n",
       "      <th>categoryId</th>\n",
       "      <th>trending_date</th>\n",
       "      <th>tags</th>\n",
       "      <th>view_count</th>\n",
       "      <th>likes</th>\n",
       "      <th>dislikes</th>\n",
       "      <th>comment_count</th>\n",
       "      <th>description</th>\n",
       "      <th>country</th>\n",
       "      <th>title content</th>\n",
       "      <th>tag content</th>\n",
       "      <th>description content</th>\n",
       "      <th>total count title</th>\n",
       "      <th>total count tag</th>\n",
       "    </tr>\n",
       "  </thead>\n",
       "  <tbody>\n",
       "    <tr>\n",
       "      <th>0</th>\n",
       "      <td>3C66w5Z0ixs</td>\n",
       "      <td>i asked her to be my girlfriend...</td>\n",
       "      <td>2020-08-11T19:20:14Z</td>\n",
       "      <td>Brawadis</td>\n",
       "      <td>22</td>\n",
       "      <td>2020-08-12T00:00:00Z</td>\n",
       "      <td>brawadis|prank|basketball|skits|ghost|funny vi...</td>\n",
       "      <td>1514614</td>\n",
       "      <td>156908</td>\n",
       "      <td>5855</td>\n",
       "      <td>35313</td>\n",
       "      <td>subscribe to brawadis ▶ http://bit.ly/subscrib...</td>\n",
       "      <td>US</td>\n",
       "      <td>[i, asked, her, to, be, my, girlfriend...]</td>\n",
       "      <td>[brawadis, prank, basketball, skits, ghost, fu...</td>\n",
       "      <td>[subscribe, to, brawadis, ▶, http://bit.ly/sub...</td>\n",
       "      <td>7</td>\n",
       "      <td>15</td>\n",
       "    </tr>\n",
       "    <tr>\n",
       "      <th>1</th>\n",
       "      <td>M9Pmf9AB4Mo</td>\n",
       "      <td>apex legends | stories from the outlands – “th...</td>\n",
       "      <td>2020-08-11T17:00:10Z</td>\n",
       "      <td>Apex Legends</td>\n",
       "      <td>20</td>\n",
       "      <td>2020-08-12T00:00:00Z</td>\n",
       "      <td>apex legends|apex legends characters|new apex ...</td>\n",
       "      <td>2381688</td>\n",
       "      <td>146739</td>\n",
       "      <td>2794</td>\n",
       "      <td>16549</td>\n",
       "      <td>while running her own modding shop, ramya pare...</td>\n",
       "      <td>US</td>\n",
       "      <td>[apex, legends, |, stories, from, the, outland...</td>\n",
       "      <td>[apex legends, apex legends characters, new ap...</td>\n",
       "      <td>[while, running, her, own, modding, shop,, ram...</td>\n",
       "      <td>10</td>\n",
       "      <td>25</td>\n",
       "    </tr>\n",
       "    <tr>\n",
       "      <th>2</th>\n",
       "      <td>J78aPJ3VyNs</td>\n",
       "      <td>i left youtube for a month and this is what ha...</td>\n",
       "      <td>2020-08-11T16:34:06Z</td>\n",
       "      <td>jacksepticeye</td>\n",
       "      <td>24</td>\n",
       "      <td>2020-08-12T00:00:00Z</td>\n",
       "      <td>jacksepticeye|funny|funny meme|memes|jacksepti...</td>\n",
       "      <td>2038853</td>\n",
       "      <td>353787</td>\n",
       "      <td>2628</td>\n",
       "      <td>40221</td>\n",
       "      <td>i left youtube for a month and this is what ha...</td>\n",
       "      <td>US</td>\n",
       "      <td>[i, left, youtube, for, a, month, and, this, i...</td>\n",
       "      <td>[jacksepticeye, funny, funny meme, memes, jack...</td>\n",
       "      <td>[i, left, youtube, for, a, month, and, this, i...</td>\n",
       "      <td>11</td>\n",
       "      <td>30</td>\n",
       "    </tr>\n",
       "    <tr>\n",
       "      <th>3</th>\n",
       "      <td>kXLn3HkpjaA</td>\n",
       "      <td>xxl 2020 freshman class revealed - official an...</td>\n",
       "      <td>2020-08-11T16:38:55Z</td>\n",
       "      <td>XXL</td>\n",
       "      <td>10</td>\n",
       "      <td>2020-08-12T00:00:00Z</td>\n",
       "      <td>xxl freshman|xxl freshmen|2020 xxl freshman|20...</td>\n",
       "      <td>496771</td>\n",
       "      <td>23251</td>\n",
       "      <td>1856</td>\n",
       "      <td>7647</td>\n",
       "      <td>subscribe to xxl → http://bit.ly/subscribe-xxl...</td>\n",
       "      <td>US</td>\n",
       "      <td>[xxl, 2020, freshman, class, revealed, -, offi...</td>\n",
       "      <td>[xxl freshman, xxl freshmen, 2020 xxl freshman...</td>\n",
       "      <td>[subscribe, to, xxl, →, http://bit.ly/subscrib...</td>\n",
       "      <td>8</td>\n",
       "      <td>23</td>\n",
       "    </tr>\n",
       "    <tr>\n",
       "      <th>4</th>\n",
       "      <td>VIUo6yapDbc</td>\n",
       "      <td>ultimate diy home movie theater for the labran...</td>\n",
       "      <td>2020-08-11T15:10:05Z</td>\n",
       "      <td>Mr. Kate</td>\n",
       "      <td>26</td>\n",
       "      <td>2020-08-12T00:00:00Z</td>\n",
       "      <td>the labrant family|diy|interior design|makeove...</td>\n",
       "      <td>1123889</td>\n",
       "      <td>45802</td>\n",
       "      <td>964</td>\n",
       "      <td>2196</td>\n",
       "      <td>transforming the labrant family's empty white ...</td>\n",
       "      <td>US</td>\n",
       "      <td>[ultimate, diy, home, movie, theater, for, the...</td>\n",
       "      <td>[the labrant family, diy, interior design, mak...</td>\n",
       "      <td>[transforming, the, labrant, family's, empty, ...</td>\n",
       "      <td>9</td>\n",
       "      <td>33</td>\n",
       "    </tr>\n",
       "  </tbody>\n",
       "</table>\n",
       "</div>"
      ],
      "text/plain": [
       "      video_id                                              title  \\\n",
       "0  3C66w5Z0ixs                 i asked her to be my girlfriend...   \n",
       "1  M9Pmf9AB4Mo  apex legends | stories from the outlands – “th...   \n",
       "2  J78aPJ3VyNs  i left youtube for a month and this is what ha...   \n",
       "3  kXLn3HkpjaA  xxl 2020 freshman class revealed - official an...   \n",
       "4  VIUo6yapDbc  ultimate diy home movie theater for the labran...   \n",
       "\n",
       "            publishedAt   channelTitle  categoryId         trending_date  \\\n",
       "0  2020-08-11T19:20:14Z       Brawadis          22  2020-08-12T00:00:00Z   \n",
       "1  2020-08-11T17:00:10Z   Apex Legends          20  2020-08-12T00:00:00Z   \n",
       "2  2020-08-11T16:34:06Z  jacksepticeye          24  2020-08-12T00:00:00Z   \n",
       "3  2020-08-11T16:38:55Z            XXL          10  2020-08-12T00:00:00Z   \n",
       "4  2020-08-11T15:10:05Z       Mr. Kate          26  2020-08-12T00:00:00Z   \n",
       "\n",
       "                                                tags  view_count   likes  \\\n",
       "0  brawadis|prank|basketball|skits|ghost|funny vi...     1514614  156908   \n",
       "1  apex legends|apex legends characters|new apex ...     2381688  146739   \n",
       "2  jacksepticeye|funny|funny meme|memes|jacksepti...     2038853  353787   \n",
       "3  xxl freshman|xxl freshmen|2020 xxl freshman|20...      496771   23251   \n",
       "4  the labrant family|diy|interior design|makeove...     1123889   45802   \n",
       "\n",
       "   dislikes  comment_count                                        description  \\\n",
       "0      5855          35313  subscribe to brawadis ▶ http://bit.ly/subscrib...   \n",
       "1      2794          16549  while running her own modding shop, ramya pare...   \n",
       "2      2628          40221  i left youtube for a month and this is what ha...   \n",
       "3      1856           7647  subscribe to xxl → http://bit.ly/subscribe-xxl...   \n",
       "4       964           2196  transforming the labrant family's empty white ...   \n",
       "\n",
       "  country                                      title content  \\\n",
       "0      US         [i, asked, her, to, be, my, girlfriend...]   \n",
       "1      US  [apex, legends, |, stories, from, the, outland...   \n",
       "2      US  [i, left, youtube, for, a, month, and, this, i...   \n",
       "3      US  [xxl, 2020, freshman, class, revealed, -, offi...   \n",
       "4      US  [ultimate, diy, home, movie, theater, for, the...   \n",
       "\n",
       "                                         tag content  \\\n",
       "0  [brawadis, prank, basketball, skits, ghost, fu...   \n",
       "1  [apex legends, apex legends characters, new ap...   \n",
       "2  [jacksepticeye, funny, funny meme, memes, jack...   \n",
       "3  [xxl freshman, xxl freshmen, 2020 xxl freshman...   \n",
       "4  [the labrant family, diy, interior design, mak...   \n",
       "\n",
       "                                 description content  total count title  \\\n",
       "0  [subscribe, to, brawadis, ▶, http://bit.ly/sub...                  7   \n",
       "1  [while, running, her, own, modding, shop,, ram...                 10   \n",
       "2  [i, left, youtube, for, a, month, and, this, i...                 11   \n",
       "3  [subscribe, to, xxl, →, http://bit.ly/subscrib...                  8   \n",
       "4  [transforming, the, labrant, family's, empty, ...                  9   \n",
       "\n",
       "   total count tag  \n",
       "0               15  \n",
       "1               25  \n",
       "2               30  \n",
       "3               23  \n",
       "4               33  "
      ]
     },
     "execution_count": 7,
     "metadata": {},
     "output_type": "execute_result"
    }
   ],
   "source": [
    "# Getting the total word count of video title (title length)\n",
    "df['total count title'] = df['title'].str.split().str.len()\n",
    "\n",
    "# Getting the total tag count of video tags (tag length)\n",
    "df['total count tag'] = df['tags'].str.split(\"|\").str.len()\n",
    "df.head()"
   ]
  },
  {
   "cell_type": "markdown",
   "metadata": {},
   "source": [
    "#### Divide into 3 countries"
   ]
  },
  {
   "cell_type": "code",
   "execution_count": 8,
   "metadata": {},
   "outputs": [],
   "source": [
    "df_us = df[df['country'] == 'US']\n",
    "df_gb = df[df['country'] == 'GB']\n",
    "df_ca = df[df['country'] == 'CA']"
   ]
  },
  {
   "cell_type": "markdown",
   "metadata": {},
   "source": [
    "##### Published Times Analysis "
   ]
  },
  {
   "cell_type": "code",
   "execution_count": 9,
   "metadata": {},
   "outputs": [
    {
     "name": "stderr",
     "output_type": "stream",
     "text": [
      "<ipython-input-9-f9bd9e5f896c>:4: SettingWithCopyWarning: \n",
      "A value is trying to be set on a copy of a slice from a DataFrame.\n",
      "Try using .loc[row_indexer,col_indexer] = value instead\n",
      "\n",
      "See the caveats in the documentation: https://pandas.pydata.org/pandas-docs/stable/user_guide/indexing.html#returning-a-view-versus-a-copy\n",
      "  df_us['publishedAt'] = df_us['publishedAt'].str[10:]\n",
      "<ipython-input-9-f9bd9e5f896c>:5: SettingWithCopyWarning: \n",
      "A value is trying to be set on a copy of a slice from a DataFrame.\n",
      "Try using .loc[row_indexer,col_indexer] = value instead\n",
      "\n",
      "See the caveats in the documentation: https://pandas.pydata.org/pandas-docs/stable/user_guide/indexing.html#returning-a-view-versus-a-copy\n",
      "  df_us['publishedAt'] = df_us['publishedAt'].str[:3]\n",
      "<ipython-input-9-f9bd9e5f896c>:7: SettingWithCopyWarning: \n",
      "A value is trying to be set on a copy of a slice from a DataFrame.\n",
      "Try using .loc[row_indexer,col_indexer] = value instead\n",
      "\n",
      "See the caveats in the documentation: https://pandas.pydata.org/pandas-docs/stable/user_guide/indexing.html#returning-a-view-versus-a-copy\n",
      "  df_gb['publishedAt'] = df_gb['publishedAt'].str[10:]\n",
      "<ipython-input-9-f9bd9e5f896c>:8: SettingWithCopyWarning: \n",
      "A value is trying to be set on a copy of a slice from a DataFrame.\n",
      "Try using .loc[row_indexer,col_indexer] = value instead\n",
      "\n",
      "See the caveats in the documentation: https://pandas.pydata.org/pandas-docs/stable/user_guide/indexing.html#returning-a-view-versus-a-copy\n",
      "  df_gb['publishedAt'] = df_gb['publishedAt'].str[:3]\n",
      "<ipython-input-9-f9bd9e5f896c>:10: SettingWithCopyWarning: \n",
      "A value is trying to be set on a copy of a slice from a DataFrame.\n",
      "Try using .loc[row_indexer,col_indexer] = value instead\n",
      "\n",
      "See the caveats in the documentation: https://pandas.pydata.org/pandas-docs/stable/user_guide/indexing.html#returning-a-view-versus-a-copy\n",
      "  df_ca['publishedAt'] = df_ca['publishedAt'].str[10:]\n",
      "<ipython-input-9-f9bd9e5f896c>:11: SettingWithCopyWarning: \n",
      "A value is trying to be set on a copy of a slice from a DataFrame.\n",
      "Try using .loc[row_indexer,col_indexer] = value instead\n",
      "\n",
      "See the caveats in the documentation: https://pandas.pydata.org/pandas-docs/stable/user_guide/indexing.html#returning-a-view-versus-a-copy\n",
      "  df_ca['publishedAt'] = df_ca['publishedAt'].str[:3]\n"
     ]
    }
   ],
   "source": [
    "# Published Times Analysis \n",
    "\n",
    "# Remove the dates, mins, and seconds in 'publshedAt' column \n",
    "df_us['publishedAt'] = df_us['publishedAt'].str[10:]\n",
    "df_us['publishedAt'] = df_us['publishedAt'].str[:3]\n",
    "\n",
    "df_gb['publishedAt'] = df_gb['publishedAt'].str[10:]\n",
    "df_gb['publishedAt'] = df_gb['publishedAt'].str[:3]\n",
    "\n",
    "df_ca['publishedAt'] = df_ca['publishedAt'].str[10:]\n",
    "df_ca['publishedAt'] = df_ca['publishedAt'].str[:3]\n"
   ]
  },
  {
   "cell_type": "code",
   "execution_count": 12,
   "metadata": {},
   "outputs": [],
   "source": [
    "# Create a dataframe with published time counts\n",
    "time_counts_us = df_us['publishedAt'].value_counts().to_dict()\n",
    "time_counts_gb = df_gb['publishedAt'].value_counts().to_dict()\n",
    "time_counts_ca = df_ca['publishedAt'].value_counts().to_dict()"
   ]
  },
  {
   "cell_type": "markdown",
   "metadata": {},
   "source": [
    "## i.Do title, tags and description word count affect viewership count ?"
   ]
  },
  {
   "cell_type": "markdown",
   "metadata": {},
   "source": [
    " #### title  and tag count"
   ]
  },
  {
   "cell_type": "code",
   "execution_count": 13,
   "metadata": {},
   "outputs": [],
   "source": [
    "# Getting the total word count of video title (title length)\n",
    "df['total count title'] = df['title'].str.split().str.len()\n",
    "\n",
    "# Getting the total tag count of video tags (tag length)\n",
    "df['total count tag'] = df['tags'].str.split(\"|\").str.len()"
   ]
  },
  {
   "cell_type": "markdown",
   "metadata": {},
   "source": [
    " #### tag word count"
   ]
  },
  {
   "cell_type": "code",
   "execution_count": 14,
   "metadata": {
    "scrolled": true
   },
   "outputs": [],
   "source": [
    "#Create total frequency count of individual tags \n",
    "df_us['tag content'].to_list()\n",
    "us_tag_counts = dict(Counter(itertools.chain.from_iterable(df_us['tag content'].to_list())))\n",
    "\n",
    "df_gb['tag content'].to_list()\n",
    "gb_tag_counts = dict(Counter(itertools.chain.from_iterable(df_gb['tag content'].to_list())))\n",
    "\n",
    "df_ca['tag content'].to_list()\n",
    "ca_tag_counts = dict(Counter(itertools.chain.from_iterable(df_ca['tag content'].to_list())))\n",
    "\n",
    "#Convert to dataframe and sort\n",
    "us_tags = pd.DataFrame(list(us_tag_counts.items()),columns = ['tag','count']) \n",
    "us_tags = us_tags.sort_values(by='count', ascending=False)\n",
    "\n",
    "gb_tags = pd.DataFrame(list(gb_tag_counts.items()),columns = ['tag','count']) \n",
    "gb_tags = gb_tags.sort_values(by='count', ascending=False)\n",
    "\n",
    "ca_tags = pd.DataFrame(list(ca_tag_counts.items()),columns = ['tag','count']) \n",
    "ca_tags = ca_tags.sort_values(by='count', ascending=False)"
   ]
  },
  {
   "cell_type": "markdown",
   "metadata": {
    "scrolled": true
   },
   "source": [
    "## ii Do title, tags content affect viewership count?"
   ]
  },
  {
   "cell_type": "markdown",
   "metadata": {},
   "source": [
    "### 1) What are the top N hot topics for each category of videos?"
   ]
  },
  {
   "cell_type": "markdown",
   "metadata": {},
   "source": [
    "#### Top categories for each country"
   ]
  },
  {
   "cell_type": "code",
   "execution_count": 16,
   "metadata": {},
   "outputs": [],
   "source": [
    "#df_gb category video count vs top views : 10: music, 24:Entertainment, 20: gaming\n",
    "df_us_topcategory = pd.DataFrame(df_us.groupby('categoryId')['view_count'].sum()).sort_values(by = 'view_count',ascending=False).reset_index()\n",
    "video_count = pd.DataFrame(df_us['categoryId'].value_counts()).reset_index().rename(columns={'index' : 'categoryId',\n",
    "                                                                                             'categoryId':'video_count'})\n",
    "df_us_topcategory = df_us_topcategory.merge(video_count, how = 'inner', on = 'categoryId')"
   ]
  },
  {
   "cell_type": "code",
   "execution_count": 17,
   "metadata": {},
   "outputs": [
    {
     "data": {
      "text/html": [
       "<div>\n",
       "<style scoped>\n",
       "    .dataframe tbody tr th:only-of-type {\n",
       "        vertical-align: middle;\n",
       "    }\n",
       "\n",
       "    .dataframe tbody tr th {\n",
       "        vertical-align: top;\n",
       "    }\n",
       "\n",
       "    .dataframe thead th {\n",
       "        text-align: right;\n",
       "    }\n",
       "</style>\n",
       "<table border=\"1\" class=\"dataframe\">\n",
       "  <thead>\n",
       "    <tr style=\"text-align: right;\">\n",
       "      <th></th>\n",
       "      <th>word</th>\n",
       "      <th>count</th>\n",
       "    </tr>\n",
       "  </thead>\n",
       "  <tbody>\n",
       "    <tr>\n",
       "      <th>6</th>\n",
       "      <td>|</td>\n",
       "      <td>15140</td>\n",
       "    </tr>\n",
       "    <tr>\n",
       "      <th>78</th>\n",
       "      <td>-</td>\n",
       "      <td>12748</td>\n",
       "    </tr>\n",
       "    <tr>\n",
       "      <th>23</th>\n",
       "      <td>the</td>\n",
       "      <td>11946</td>\n",
       "    </tr>\n",
       "    <tr>\n",
       "      <th>30</th>\n",
       "      <td>to</td>\n",
       "      <td>5198</td>\n",
       "    </tr>\n",
       "    <tr>\n",
       "      <th>12</th>\n",
       "      <td>a</td>\n",
       "      <td>4999</td>\n",
       "    </tr>\n",
       "    <tr>\n",
       "      <th>...</th>\n",
       "      <td>...</td>\n",
       "      <td>...</td>\n",
       "    </tr>\n",
       "    <tr>\n",
       "      <th>13762</th>\n",
       "      <td>heo</td>\n",
       "      <td>1</td>\n",
       "    </tr>\n",
       "    <tr>\n",
       "      <th>13758</th>\n",
       "      <td>(sgp)</td>\n",
       "      <td>1</td>\n",
       "    </tr>\n",
       "    <tr>\n",
       "      <th>13757</th>\n",
       "      <td>yew</td>\n",
       "      <td>1</td>\n",
       "    </tr>\n",
       "    <tr>\n",
       "      <th>13756</th>\n",
       "      <td>kean</td>\n",
       "      <td>1</td>\n",
       "    </tr>\n",
       "    <tr>\n",
       "      <th>19465</th>\n",
       "      <td>lindworm</td>\n",
       "      <td>1</td>\n",
       "    </tr>\n",
       "  </tbody>\n",
       "</table>\n",
       "<p>19466 rows × 2 columns</p>\n",
       "</div>"
      ],
      "text/plain": [
       "           word  count\n",
       "6             |  15140\n",
       "78            -  12748\n",
       "23          the  11946\n",
       "30           to   5198\n",
       "12            a   4999\n",
       "...         ...    ...\n",
       "13762       heo      1\n",
       "13758     (sgp)      1\n",
       "13757       yew      1\n",
       "13756      kean      1\n",
       "19465  lindworm      1\n",
       "\n",
       "[19466 rows x 2 columns]"
      ]
     },
     "execution_count": 17,
     "metadata": {},
     "output_type": "execute_result"
    }
   ],
   "source": [
    "#Create total frequency count of individual words in title \n",
    "us_title_list = df_us['title content'].to_list()\n",
    "us_all_title_counts = dict(Counter(itertools.chain.from_iterable(df_us['title content'].to_list())))\n",
    "\n",
    "gb_title_list = df_gb['title content'].to_list()\n",
    "gb_all_title_counts = dict(Counter(itertools.chain.from_iterable(df_gb['title content'].to_list())))\n",
    "\n",
    "ca_title_list = df_ca['title content'].to_list()\n",
    "ca_all_title_counts = dict(Counter(itertools.chain.from_iterable(df_ca['title content'].to_list())))\n",
    "\n",
    "#Convert to dataframe and sort\n",
    "df_title_us = pd.DataFrame(list(us_all_title_counts.items()),columns = ['word','count']) \n",
    "df_title_us.sort_values(by='count', ascending=False)\n",
    "\n",
    "df_title_gb = pd.DataFrame(list(gb_all_title_counts.items()),columns = ['word','count']) \n",
    "df_title_gb.sort_values(by='count', ascending=False)\n",
    "\n",
    "df_title_ca = pd.DataFrame(list(ca_all_title_counts.items()),columns = ['word','count']) \n",
    "df_title_ca.sort_values(by='count', ascending=False)"
   ]
  },
  {
   "cell_type": "markdown",
   "metadata": {},
   "source": [
    "### Extracting hot topics with NLTK\n",
    "####  (https://www.analyticsvidhya.com/blog/2019/08/how-to-remove-stopwords-text-normalization-nltk-spacy-gensim-python/)"
   ]
  },
  {
   "cell_type": "markdown",
   "metadata": {},
   "source": [
    "#### split categories"
   ]
  },
  {
   "cell_type": "code",
   "execution_count": null,
   "metadata": {},
   "outputs": [],
   "source": [
    "#split categories\n",
    "df_us_10 = df_us[df_us['categoryId'] == 10]\n",
    "df_us_24 = df_us[df_us['categoryId'] == 24]\n",
    "df_us_20 =  df_us[df_us['categoryId'] == 20]\n",
    "df_us_25 =  df_us[df_us['categoryId'] == 25]"
   ]
  },
  {
   "cell_type": "markdown",
   "metadata": {},
   "source": [
    "#### Textual Analysis"
   ]
  },
  {
   "cell_type": "code",
   "execution_count": null,
   "metadata": {},
   "outputs": [],
   "source": [
    "#Extracting hot topics with NLTK\n",
    "text = df_us_25['tags'].str.lower().replace('|', ' ').str.cat(sep=' ')\n",
    "\n",
    "\n",
    "stop_words = set(stopwords.words('english')) \n",
    "  \n",
    "word_tokens = word_tokenize(text) \n",
    "    \n",
    "filtered_sentence = [] \n",
    "  \n",
    "for w in word_tokens: \n",
    "    if w not in stop_words: \n",
    "        filtered_sentence.append(w) \n",
    "        \n",
    "# Stemming with NLTK\n",
    "Stem_words = []\n",
    "ps =PorterStemmer()\n",
    "for w in filtered_sentence:\n",
    "    rootWord=ps.stem(w)\n",
    "    Stem_words.append(rootWord)\n",
    "    \n",
    "# Lemmatization with NLTK\n",
    "filtered_sentence = list(filter(lambda token: token not in string.punctuation, filtered_sentence))\n",
    "filtered_sentence\n",
    "\n",
    "# remove unnecessay words\n",
    "stopwords = [\"'s\", \"’\", \"...\" , \"ft.\" , \"2\" ,\"x\" , \"1\", \"n't\", \"–\", \"3\", \"5\", \"4\",\n",
    "             \"2021\",\"2020\",\"trailer\", \"de\", \"official\", \"season\", \"video\", \"official\", \"season\", \n",
    "             \"episode\",\"la\", \"le\", \"je\", \"part\", \"je\", \"des\",\"world\",\"day\", \"10\",\"e\", \"avec\", \"‘\",\n",
    "             \"à\", \"music\", \"none\", \"new\",\"lil\", \"like\", \"songs\", \"song\",\"thee\",\"love\",\"bad\",\"g\", \n",
    "             \"mix\", \"100\",\"6\", \"news\", \"watch\", \"man\", \"live\", \"interview\",\"first\", \"today\",\"minutes\"]\n",
    "\n",
    "for word in list(filtered_sentence):  # iterating on a copy since removing will mess things up\n",
    "    if word in stopwords:\n",
    "        filtered_sentence.remove(word)\n"
   ]
  },
  {
   "cell_type": "markdown",
   "metadata": {},
   "source": [
    "#### Word Cloud"
   ]
  },
  {
   "cell_type": "code",
   "execution_count": null,
   "metadata": {},
   "outputs": [],
   "source": [
    "#wordcloud\n",
    "word_could_dict= Counter(filtered_sentence)\n",
    "\n",
    "wordcloud = WordCloud(width = 1000, height = 500, background_color ='black',\n",
    "                      stopwords = stopwords,\n",
    "                      min_font_size = 10).generate_from_frequencies(word_could_dict)\n",
    "\n",
    "\n",
    "plt.figure(figsize=(8,8))\n",
    "plt.imshow(wordcloud)\n",
    "plt.axis(\"off\")\n",
    "# plt.show()\n",
    "plt.savefig('us25_tags_wordcloud.png', bbox_inches='tight')\n",
    "plt.close()\n"
   ]
  },
  {
   "cell_type": "markdown",
   "metadata": {},
   "source": [
    "#### Hot Topic words count"
   ]
  },
  {
   "cell_type": "code",
   "execution_count": null,
   "metadata": {},
   "outputs": [],
   "source": [
    "filtered_sentence = pd.DataFrame(filtered_sentence)\n",
    "filtered_sentence_unique = pd.DataFrame(filtered_sentence.value_counts())\n",
    "filtered_sentence_unique = filtered_sentence_unique.rename(columns={'0':'count'})\n",
    "filtered_sentence_unique.head(50)"
   ]
  },
  {
   "cell_type": "code",
   "execution_count": null,
   "metadata": {},
   "outputs": [],
   "source": [
    "# Convert list to string\n",
    "# using list comprehension\n",
    "listToStr = ' '.join([str(elem) for elem in filtered_sentence_unique])\n",
    "  \n",
    "listToStr "
   ]
  },
  {
   "cell_type": "markdown",
   "metadata": {},
   "source": [
    "## iii. Does published time affect viewership count?"
   ]
  },
  {
   "cell_type": "markdown",
   "metadata": {},
   "source": [
    "#### Published Times Analysis "
   ]
  },
  {
   "cell_type": "code",
   "execution_count": null,
   "metadata": {},
   "outputs": [],
   "source": [
    "# Published Times Analysis \n",
    "\n",
    "# Remove the dates, mins, and seconds in 'publshedAt' column \n",
    "df_us['publishedAt'] = df_us['publishedAt'].str[10:]\n",
    "df_us['publishedAt'] = df_us['publishedAt'].str[:4]\n",
    "\n",
    "df_gb['publishedAt'] = df_gb['publishedAt'].str[10:]\n",
    "df_gb['publishedAt'] = df_gb['publishedAt'].str[:4]\n",
    "\n",
    "df_ca['publishedAt'] = df_ca['publishedAt'].str[10:]\n",
    "df_ca['publishedAt'] = df_ca['publishedAt'].str[:4]"
   ]
  },
  {
   "cell_type": "code",
   "execution_count": null,
   "metadata": {},
   "outputs": [],
   "source": [
    "# Create a dataframe with published time counts\n",
    "time_counts_us = df_us['publishedAt'].value_counts().to_dict()\n",
    "time_counts_gb = df_gb['publishedAt'].value_counts().to_dict()\n",
    "time_counts_ca = df_ca['publishedAt'].value_counts().to_dict()\n",
    "time_counts_ca"
   ]
  },
  {
   "cell_type": "markdown",
   "metadata": {},
   "source": [
    "## iv.  Does the genre of the video affect viewership count?"
   ]
  },
  {
   "cell_type": "code",
   "execution_count": null,
   "metadata": {},
   "outputs": [],
   "source": [
    "# Create a dataframe with categoryId counts\n",
    "category_counts_us = df_us['categoryId'].value_counts().to_dict()\n",
    "category_counts_gb = df_gb['categoryId'].value_counts().to_dict()\n",
    "category_counts_ca = df_ca['categoryId'].value_counts().to_dict()\n",
    "category_counts_ca"
   ]
  },
  {
   "cell_type": "code",
   "execution_count": null,
   "metadata": {},
   "outputs": [],
   "source": []
  },
  {
   "cell_type": "code",
   "execution_count": null,
   "metadata": {},
   "outputs": [],
   "source": []
  },
  {
   "cell_type": "code",
   "execution_count": null,
   "metadata": {},
   "outputs": [],
   "source": []
  },
  {
   "cell_type": "code",
   "execution_count": null,
   "metadata": {},
   "outputs": [],
   "source": []
  },
  {
   "cell_type": "code",
   "execution_count": null,
   "metadata": {},
   "outputs": [],
   "source": []
  },
  {
   "cell_type": "code",
   "execution_count": null,
   "metadata": {},
   "outputs": [],
   "source": []
  },
  {
   "cell_type": "code",
   "execution_count": null,
   "metadata": {},
   "outputs": [],
   "source": []
  },
  {
   "cell_type": "code",
   "execution_count": null,
   "metadata": {},
   "outputs": [],
   "source": []
  },
  {
   "cell_type": "code",
   "execution_count": null,
   "metadata": {},
   "outputs": [],
   "source": []
  },
  {
   "cell_type": "code",
   "execution_count": null,
   "metadata": {},
   "outputs": [],
   "source": []
  },
  {
   "cell_type": "code",
   "execution_count": null,
   "metadata": {},
   "outputs": [],
   "source": []
  }
 ],
 "metadata": {
  "kernelspec": {
   "display_name": "Python 3",
   "language": "python",
   "name": "python3"
  },
  "language_info": {
   "codemirror_mode": {
    "name": "ipython",
    "version": 3
   },
   "file_extension": ".py",
   "mimetype": "text/x-python",
   "name": "python",
   "nbconvert_exporter": "python",
   "pygments_lexer": "ipython3",
   "version": "3.8.5"
  }
 },
 "nbformat": 4,
 "nbformat_minor": 4
}
